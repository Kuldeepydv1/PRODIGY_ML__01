{
 "cells": [
  {
   "cell_type": "code",
   "execution_count": null,
   "id": "695a06c0",
   "metadata": {},
   "outputs": [],
   "source": [
    "import tensorflow as tf\n",
    "import matplotlib.image as img\n",
    "%matplotlib inline\n",
    "import numpy as np\n",
    "from collections import defaultdict\n",
    "import collections\n",
    "from shutil import copy\n",
    "from shutil import copytree, rmtree\n",
    "import tensorflow.keras.backend as K\n",
    "from tensorflow.keras.models import load_model\n",
    "from tensorflow.keras.preprocessing import image\n",
    "import matplotlib.pyplot as plt\n",
    "import numpy as np\n",
    "import os\n",
    "import random\n",
    "import tensorflow as tf\n",
    "import tensorflow.keras.backend as K\n",
    "from tensorflow.keras import regularizers\n",
    "from tensorflow.keras.applications.inception_v3 import InceptionV3\n",
    "from tensorflow.keras.models import Sequential, Model\n",
    "from tensorflow.keras.layers import Dense, Dropout, Activation, Flatten\n",
    "from tensorflow.keras.layers import Convolution2D, MaxPooling2D, ZeroPadding2D, GlobalAveragePooling2D, AveragePooling2D\n",
    "from tensorflow.keras.preprocessing.image import ImageDataGenerator\n",
    "from tensorflow.keras.callbacks import ModelCheckpoint, CSVLogger\n",
    "from tensorflow.keras.optimizers import SGD\n",
    "from tensorflow.keras.regularizers import l2\n",
    "from tensorflow import keras\n",
    "from tensorflow.keras import models\n",
    "import cv2"
   ]
  },
  {
   "cell_type": "code",
   "execution_count": null,
   "id": "4519725b",
   "metadata": {},
   "outputs": [],
   "source": [
    "# Check if GPU is enabled\n",
    "print(tf.__version__)\n",
    "print(tf.test.gpu_device_name())"
   ]
  },
  {
   "cell_type": "code",
   "execution_count": null,
   "id": "27c9ebef",
   "metadata": {},
   "outputs": [],
   "source": [
    "zip_files = ['test1', 'train']\n",
    "\n",
    "for zip_file in zip_files:\n",
    "    with zipfile.ZipFile(\"../input/dogs-vs-cats/{}.zip\".format(zip_file),\"r\") as z:\n",
    "        z.extractall(\".\")\n",
    "        print(\"{} unzipped\".format(zip_file))"
   ]
  },
  {
   "cell_type": "code",
   "execution_count": null,
   "id": "c0aa3d5b",
   "metadata": {},
   "outputs": [],
   "source": [
    "TRAIN_DIR_PATH = './train'\n",
    "file_names = os.listdir(TRAIN_DIR_PATH)\n",
    "print('There are {} number of images in directory.'.format(len(file_names)))"
   ]
  },
  {
   "cell_type": "code",
   "execution_count": null,
   "id": "5a72752a",
   "metadata": {},
   "outputs": [],
   "source": [
    "TRAIN_DIR_PATH = './test1'\n",
    "file_names = os.listdir(TRAIN_DIR_PATH)\n",
    "print('There are {} number of images in directory.'.format(len(file_names)))"
   ]
  },
  {
   "cell_type": "code",
   "execution_count": null,
   "id": "0013fbac",
   "metadata": {},
   "outputs": [],
   "source": [
    "IMAGE_FOLDER_PATH = \"../working/train\"\n",
    "FILE_NAMES = os.listdir(IMAGE_FOLDER_PATH)"
   ]
  },
  {
   "cell_type": "code",
   "execution_count": null,
   "id": "8bd324dc",
   "metadata": {},
   "outputs": [],
   "source": [
    "targets = list()\n",
    "full_paths = list()\n",
    "train_cats_dir = list()\n",
    "train_dogs_dir = list()\n",
    "\n",
    "# finding each file's target\n",
    "for file_name in FILE_NAMES:\n",
    "    target = file_name.split(\".\")[0] # target name\n",
    "    full_path = os.path.join(IMAGE_FOLDER_PATH, file_name)\n",
    "    \n",
    "    if(target == \"dog\"):\n",
    "        train_dogs_dir.append(full_path)\n",
    "    if(target == \"cat\"):\n",
    "        train_cats_dir.append(full_path)\n",
    "    \n",
    "    full_paths.append(full_path)\n",
    "    targets.append(target)\n",
    "\n",
    "dataset = pd.DataFrame() # make dataframe\n",
    "dataset['image_path'] = full_paths # file path\n",
    "dataset['target'] = targets # file's target"
   ]
  },
  {
   "cell_type": "code",
   "execution_count": null,
   "id": "c2b3ea74",
   "metadata": {},
   "outputs": [],
   "source": [
    "train_cats_dir[:5]"
   ]
  },
  {
   "cell_type": "code",
   "execution_count": null,
   "id": "8d74d01e",
   "metadata": {},
   "outputs": [],
   "source": [
    "def preprocess_image(image_path):\n",
    "    img = imread(image_path)\n",
    "    # Resize the image to a fixed size\n",
    "    img = resize(img, (100, 100))\n",
    "    # Flatten the image to a 1D array\n",
    "    img_flat = img.flatten()\n",
    "    return img_flat\n",
    "\n",
    "X = []\n",
    "y = dataset['target']\n",
    "for image_path in dataset['image_path']:\n",
    "    X.append(preprocess_image(image_path))\n",
    "X = np.array(X)\n",
    "\n",
    "pca = PCA(n_components=100)\n",
    "X_pca = pca.fit_transform(X)\n",
    "\n",
    "X_train, X_test, y_train, y_test = train_test_split(X_pca, y, test_size=0.2, random_state=42)\n",
    "\n",
    "clf = svm.SVC(kernel='rbf')\n",
    "\n",
    "clf.fit(X_train, y_train)"
   ]
  },
  {
   "cell_type": "code",
   "execution_count": null,
   "id": "4e6aa121",
   "metadata": {},
   "outputs": [],
   "source": []
  }
 ],
 "metadata": {
  "kernelspec": {
   "display_name": "Python 3 (ipykernel)",
   "language": "python",
   "name": "python3"
  },
  "language_info": {
   "codemirror_mode": {
    "name": "ipython",
    "version": 3
   },
   "file_extension": ".py",
   "mimetype": "text/x-python",
   "name": "python",
   "nbconvert_exporter": "python",
   "pygments_lexer": "ipython3",
   "version": "3.11.4"
  }
 },
 "nbformat": 4,
 "nbformat_minor": 5
}
